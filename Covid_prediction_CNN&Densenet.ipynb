{
  "nbformat": 4,
  "nbformat_minor": 0,
  "metadata": {
    "colab": {
      "name": "Covid_prediction_CNN&Densenet.ipynb",
      "provenance": [],
      "collapsed_sections": []
    },
    "kernelspec": {
      "display_name": "Python 3",
      "language": "python",
      "name": "python3"
    },
    "language_info": {
      "codemirror_mode": {
        "name": "ipython",
        "version": 3
      },
      "file_extension": ".py",
      "mimetype": "text/x-python",
      "name": "python",
      "nbconvert_exporter": "python",
      "pygments_lexer": "ipython3",
      "version": "3.8.8"
    },
    "accelerator": "GPU"
  },
  "cells": [
    {
      "cell_type": "code",
      "metadata": {
        "id": "m1jgOmgFBGsS"
      },
      "source": [
        "#from google.colab import drive\n",
        "#drive.mount('/content/gdrive')"
      ],
      "execution_count": null,
      "outputs": []
    },
    {
      "cell_type": "code",
      "metadata": {
        "id": "InnfjbI7BvLl"
      },
      "source": [
        "#!pip install -q kaggle"
      ],
      "execution_count": null,
      "outputs": []
    },
    {
      "cell_type": "code",
      "metadata": {
        "id": "8pHfuowxCUB0"
      },
      "source": [
        "#from google.colab import files"
      ],
      "execution_count": null,
      "outputs": []
    },
    {
      "cell_type": "code",
      "metadata": {
        "id": "GckUK8zKCtLx"
      },
      "source": [
        "#files.upload()\n"
      ],
      "execution_count": null,
      "outputs": []
    },
    {
      "cell_type": "code",
      "metadata": {
        "id": "kAdXwyKiCvdO"
      },
      "source": [
        "#! mkdir ~/.kaggle\n"
      ],
      "execution_count": null,
      "outputs": []
    },
    {
      "cell_type": "code",
      "metadata": {
        "id": "HjblD5WZDZrQ"
      },
      "source": [
        "#! cp kaggle.json ~/.kaggle/\n"
      ],
      "execution_count": null,
      "outputs": []
    },
    {
      "cell_type": "code",
      "metadata": {
        "id": "8dQsleyLDduL"
      },
      "source": [
        "#! chmod 600 ~/.kaggle/kaggle.json\n"
      ],
      "execution_count": null,
      "outputs": []
    },
    {
      "cell_type": "code",
      "metadata": {
        "id": "5hx_0gioDhfW"
      },
      "source": [
        "#! kaggle competitions download <name-of-competition>\n",
        "#!kaggle datasets download -d jtiptj/chest-xray-pneumoniacovid19tuberculosis"
      ],
      "execution_count": null,
      "outputs": []
    },
    {
      "cell_type": "code",
      "metadata": {
        "id": "R_ryVWnpDy0e"
      },
      "source": [
        "!ls -a"
      ],
      "execution_count": null,
      "outputs": []
    },
    {
      "cell_type": "code",
      "metadata": {
        "id": "XAGB3GOqEW8P"
      },
      "source": [
        "ls\n"
      ],
      "execution_count": null,
      "outputs": []
    },
    {
      "cell_type": "code",
      "metadata": {
        "id": "7ktPU95BEdPK"
      },
      "source": [
        "#!unzip chest-xray-pneumoniacovid19tuberculosis.zip"
      ],
      "execution_count": null,
      "outputs": []
    },
    {
      "cell_type": "code",
      "metadata": {
        "id": "ZfWB62GuEiDr"
      },
      "source": [
        "ls"
      ],
      "execution_count": null,
      "outputs": []
    },
    {
      "cell_type": "code",
      "metadata": {
        "id": "ZqkLHrxS1qpp"
      },
      "source": [
        ""
      ],
      "execution_count": null,
      "outputs": []
    },
    {
      "cell_type": "code",
      "metadata": {
        "id": "TX33NcvE1qsj"
      },
      "source": [
        ""
      ],
      "execution_count": null,
      "outputs": []
    },
    {
      "cell_type": "code",
      "metadata": {
        "id": "3VWyQDDJEwzQ"
      },
      "source": [
        "ls"
      ],
      "execution_count": null,
      "outputs": []
    },
    {
      "cell_type": "code",
      "metadata": {
        "id": "mGH-b4-PEzMn"
      },
      "source": [
        "cd ../\n"
      ],
      "execution_count": null,
      "outputs": []
    },
    {
      "cell_type": "code",
      "metadata": {
        "id": "cmrFUQSOE4_t"
      },
      "source": [
        "ls"
      ],
      "execution_count": null,
      "outputs": []
    },
    {
      "cell_type": "code",
      "metadata": {
        "id": "_9DTyIHWE5s3"
      },
      "source": [
        "import numpy as np # linear algebra\n",
        "\n",
        "# Input data files are available in the read-only \"../input/\" directory\n",
        "# For example, running this (by clicking run or pressing Shift+Enter) will list all files under the input directory\n",
        "import random\n",
        "import os\n",
        "import cv2\n",
        "from IPython.display import Image\n",
        "import matplotlib.pyplot as plt\n",
        "import seaborn as sns\n",
        "\n",
        "#from keras.utils import plot_model\n",
        "from sklearn.metrics import classification_report\n",
        "from collections import Counter\n",
        "import tensorflow as tf\n",
        "from keras.utils.vis_utils import plot_model\n",
        "import keras\n",
        "from tensorflow.keras.preprocessing.image import ImageDataGenerator\n",
        "from keras.callbacks import ReduceLROnPlateau\n",
        "from tensorflow.keras.applications.inception_v3 import InceptionV3\n",
        "from tensorflow.keras.applications.resnet50 import ResNet50\n",
        "from tensorflow.keras.applications.vgg16 import VGG16\n",
        "\n",
        "from keras import Model, layers\n",
        "from keras.models import Sequential\n",
        "from tensorflow.keras.optimizers import Adam, SGD\n",
        "\n",
        "\n",
        "#from keras.optimizers import Adam, SGD\n",
        "from keras.layers import GlobalMaxPooling2D, GlobalAveragePooling2D, Dropout, Dense, Input, Conv2D, MaxPooling2D, Flatten,MaxPooling3D"
      ],
      "execution_count": null,
      "outputs": []
    },
    {
      "cell_type": "code",
      "metadata": {
        "id": "_xBZD9ZR1FJ6"
      },
      "source": [
        "from keras import regularizers\n",
        "from keras.layers import Activation,Dense"
      ],
      "execution_count": null,
      "outputs": []
    },
    {
      "cell_type": "code",
      "metadata": {
        "id": "1HISDymyG7EI"
      },
      "source": [
        "import pandas as pd"
      ],
      "execution_count": null,
      "outputs": []
    },
    {
      "cell_type": "code",
      "metadata": {
        "id": "zvwaO0a1RcDx"
      },
      "source": [
        "#pull from datasets\n",
        "#   gauss\n",
        "#seg_train_folders = '/content/gdrive/MyDrive/datasets/gaussian blur/Train/' #one more seg_train folder within\n",
        "#seg_test_folders = '/content/gdrive/MyDrive/datasets/gaussian blur/Test/'\n",
        "#seg_pred_folders = '/content/gdrive/MyDrive/val/'"
      ],
      "execution_count": null,
      "outputs": []
    },
    {
      "cell_type": "code",
      "metadata": {
        "id": "QOlkLQe4RvSY"
      },
      "source": [
        "#pull from datasets\n",
        "# tint\n",
        "#seg_train_folders = '/content/gdrive/MyDrive/datasets/tinted images/Train/' #one more seg_train folder within\n",
        "#seg_test_folders = '/content/gdrive/MyDrive/datasets/tinted images/Test/'\n",
        "#seg_pred_folders = '/content/gdrive/MyDrive/val/'"
      ],
      "execution_count": null,
      "outputs": []
    },
    {
      "cell_type": "code",
      "metadata": {
        "id": "h-sRry_1Rzik"
      },
      "source": [
        "#pull from datasets\n",
        "# lens\n",
        "#seg_train_folders = '/content/gdrive/MyDrive/datasets/lens flare/Train/' #one more seg_train folder within\n",
        "#seg_test_folders = '/content/gdrive/MyDrive/datasets/lens flare/Test/'\n",
        "#seg_pred_folders = '/content/gdrive/MyDrive/val/'"
      ],
      "execution_count": null,
      "outputs": []
    },
    {
      "cell_type": "code",
      "metadata": {
        "id": "wV_PCR7UR2zc"
      },
      "source": [
        "#pull from datasets\n",
        "# lensandgauss\n",
        "#seg_train_folders = '/content/gdrive/MyDrive/datasets/lensandgauss/Train/' #one more seg_train folder within\n",
        "#seg_test_folders = '/content/gdrive/MyDrive/datasets/lensandgauss/Test/'\n",
        "#seg_pred_folders = '/content/gdrive/MyDrive/val/'"
      ],
      "execution_count": null,
      "outputs": []
    },
    {
      "cell_type": "code",
      "metadata": {
        "id": "4fyfgHk3R8RS"
      },
      "source": [
        "#pull from datasets\n",
        "# lensandtint\n",
        "#seg_train_folders = '/content/gdrive/MyDrive/datasets/lensandtint/Train/' #one more seg_train folder within\n",
        "#seg_test_folders = '/content/gdrive/MyDrive/datasets/lensandtint/Test/'\n",
        "#seg_pred_folders = '/content/gdrive/MyDrive/val/'"
      ],
      "execution_count": null,
      "outputs": []
    },
    {
      "cell_type": "code",
      "metadata": {
        "id": "rUkgRru7SBlG"
      },
      "source": [
        "#pull from datasets\n",
        "# tintandgauss\n",
        "#seg_train_folders = '/content/gdrive/MyDrive/datasets/tintandgauss/Train/' #one more seg_train folder within\n",
        "#seg_test_folders = '/content/gdrive/MyDrive/datasets/tintandgauss/Test/'\n",
        "#seg_pred_folders = '/content/gdrive/MyDrive/val/'"
      ],
      "execution_count": null,
      "outputs": []
    },
    {
      "cell_type": "code",
      "metadata": {
        "id": "xVCQUu81SBcC"
      },
      "source": [
        "#pull from datasets\n",
        "#all\n",
        "#seg_train_folders = '/content/gdrive/MyDrive/datasets/All/Train/' #one more seg_train folder within\n",
        "#seg_test_folders = '/content/gdrive/MyDrive/datasets/All/Test/'\n",
        "#seg_pred_folders = '/content/gdrive/MyDrive/val/'"
      ],
      "execution_count": null,
      "outputs": []
    },
    {
      "cell_type": "code",
      "metadata": {
        "id": "R4rEVgmfSBaB"
      },
      "source": [
        ""
      ],
      "execution_count": null,
      "outputs": []
    },
    {
      "cell_type": "code",
      "metadata": {
        "id": "OhcxU56HFlDO"
      },
      "source": [
        "#root_path = '/content/gdrive/MyDrive/Colab Notebooks/skin_images/'\n",
        "#train_pred_test_folders = os.listdir(root_path)\n",
        "\n",
        "#seg_train_folders = '/content/train/' #one more seg_train folder within\n",
        "#seg_test_folders = '/content/test/'\n",
        "#seg_pred_folders = '/content/testval/'\n",
        "quantity_tr = {} \n",
        "quantity_te = {}\n",
        "for folder in os.listdir(seg_train_folders):\n",
        "    quantity_tr[folder] = len(os.listdir(seg_train_folders+folder))\n",
        "\n",
        "for folder in os.listdir(seg_test_folders):\n",
        "    quantity_te[folder] = len(os.listdir(seg_test_folders+folder))\n",
        "    \n",
        "quantity_train = pd.DataFrame(list(quantity_tr.items()), index=range(0,len(quantity_tr)), columns=['class','count'])\n",
        "quantity_test = pd.DataFrame(list(quantity_te.items()), index=range(0,len(quantity_te)), columns=['class','count'])\n",
        "\n",
        "figure, ax = plt.subplots(1,2,figsize=(20,5))\n",
        "sns.barplot(x='class',y='count',data=quantity_train,ax=ax[0])\n",
        "sns.barplot(x='class',y='count',data=quantity_test,ax=ax[1])\n",
        "\n",
        "print(\"Number of images in the train set : \", sum(quantity_tr.values()))\n",
        "print(\"Number of images in the test set ; \",sum(quantity_te.values()))\n",
        "\n",
        "plt.show()"
      ],
      "execution_count": null,
      "outputs": []
    },
    {
      "cell_type": "code",
      "metadata": {
        "id": "g9G4XeNFG4EI"
      },
      "source": [
        "def save_history(history, model_name):\n",
        "    #convert the history.history dict to a pandas DataFrame:     \n",
        "    hist_df = pd.DataFrame(history.history) \n",
        "\n",
        "    # save to json:  \n",
        "    hist_json_file = model_name+'_history.json' \n",
        "    with open(hist_json_file, mode='w') as f:\n",
        "        hist_df.to_json(f)\n",
        "\n",
        "    # or save to csv: \n",
        "    hist_csv_file = model_name+'_history.csv'\n",
        "    with open(hist_csv_file, mode='w') as f:\n",
        "        hist_df.to_csv(f)\n",
        "        \n",
        "def plot_accuracy_from_history(history, isinception=False):\n",
        "    color = sns.color_palette()\n",
        "    if(isinception == False):\n",
        "        acc = history.history['acc']\n",
        "        val_acc = history.history['val_acc']\n",
        "    else:\n",
        "        acc = history.history['accuracy']\n",
        "        val_acc = history.history['val_accuracy']\n",
        "    \n",
        "\n",
        "    epochs = range(len(acc))\n",
        "\n",
        "    sns.lineplot(epochs, acc, label='Training Accuracy')\n",
        "    sns.lineplot(epochs, val_acc,label='Validation Accuracy')\n",
        "    plt.title('Training and Validation Accuracy')\n",
        "    plt.legend()\n",
        "    plt.figure()\n",
        "    plt.show()\n",
        "    \n",
        "def plot_loss_from_history(history):\n",
        "    color = sns.color_palette()\n",
        "    loss = history.history['loss']\n",
        "    val_loss = history.history['val_loss']\n",
        "    \n",
        "    epochs = range(len(loss))\n",
        "    \n",
        "    sns.lineplot(epochs, loss,label='Training Loss')\n",
        "    sns.lineplot(epochs, val_loss, label='Validation Loss')\n",
        "    plt.title('Training and Validation Loss')\n",
        "    plt.legend()\n",
        "    plt.figure()\n",
        "    plt.show()\n",
        "    \n",
        "def do_history_stuff(history, history_file_name, isinception=False):\n",
        "    save_history(history, history_file_name)\n",
        "    plot_accuracy_from_history(history, isinception)\n",
        "    plot_loss_from_history(history)"
      ],
      "execution_count": null,
      "outputs": []
    },
    {
      "cell_type": "code",
      "metadata": {
        "id": "k0taVcFoP0CJ"
      },
      "source": [
        ""
      ],
      "execution_count": null,
      "outputs": []
    },
    {
      "cell_type": "code",
      "metadata": {
        "id": "So80Tw-gP0O1"
      },
      "source": [
        ""
      ],
      "execution_count": null,
      "outputs": []
    },
    {
      "cell_type": "code",
      "metadata": {
        "id": "jfDWO8qQJtzg"
      },
      "source": [
        "train_datagen = ImageDataGenerator( rescale = 1.0/255.,shear_range=0.2,zoom_range=0.2)\n",
        "\n",
        "# we are rescaling by 1.0/255 to normalize the rgb values if they are in range 0-255 the values are too high for good model performance. \n",
        "train_generator = train_datagen.flow_from_directory(seg_train_folders,\n",
        "                                                    batch_size=32,\n",
        "                                                    shuffle=True,\n",
        "                                                    class_mode='categorical',\n",
        "                                                    target_size=(150, 150))\n",
        "\n",
        "validation_datagen = ImageDataGenerator(rescale = 1.0/255.) #we are only normalising to make the prediction, the other parameters were used for agumentation and train weights\n",
        "validation_generator = validation_datagen.flow_from_directory(seg_test_folders, shuffle=True, batch_size=1, class_mode='categorical', target_size=(150, 150))\n"
      ],
      "execution_count": null,
      "outputs": []
    },
    {
      "cell_type": "code",
      "metadata": {
        "id": "0nl6JUssJ1A0"
      },
      "source": [
        "inv_map_classes = {v: k for k, v in validation_generator.class_indices.items()}\n",
        "print(validation_generator.class_indices)\n",
        "print(inv_map_classes)"
      ],
      "execution_count": null,
      "outputs": []
    },
    {
      "cell_type": "code",
      "metadata": {
        "id": "uvSrXHXxJ6m9"
      },
      "source": [
        "def show_few_images(number_of_examples=2, predict_using_model=None):\n",
        "    figure1, ax1 = plt.subplots(number_of_examples,len(os.listdir(seg_train_folders)), figsize=(20,4*number_of_examples))\n",
        "    ax1 = ax1.reshape(-1)\n",
        "    axoff_fun = np.vectorize(lambda ax:ax.axis('off'))\n",
        "    axoff_fun(ax1)\n",
        "    axs = 0\n",
        "    for i, folder in enumerate(os.listdir(seg_train_folders)):\n",
        "        image_ids = os.listdir(os.path.join(seg_train_folders,folder))\n",
        "        for j in [random.randrange(0, len(image_ids)) for i in range(0,number_of_examples)]:\n",
        "            \n",
        "            display = plt.imread(os.path.join(seg_train_folders,folder,image_ids[j]))\n",
        "            plt.axis('off')\n",
        "            ax1[axs].imshow(display)\n",
        "            title = 'True:'+folder\n",
        "            if(predict_using_model):\n",
        "                predicted_classname = inv_map_classes[np.argmax(inception_best_model.predict(np.array([display])))]\n",
        "                title = title+'\\nPredict :'+predicted_classname\n",
        "            ax1[axs].set_title(title)\n",
        "            axs=axs+1\n",
        "show_few_images(2)"
      ],
      "execution_count": null,
      "outputs": []
    },
    {
      "cell_type": "code",
      "metadata": {
        "id": "IrsEJ0Dt9HPu"
      },
      "source": [
        "from keras import applications\n"
      ],
      "execution_count": null,
      "outputs": []
    },
    {
      "cell_type": "code",
      "metadata": {
        "id": "mg7bEFkw9Jat"
      },
      "source": [
        ""
      ],
      "execution_count": null,
      "outputs": []
    },
    {
      "cell_type": "code",
      "metadata": {
        "id": "iC0OQqlH9Jje"
      },
      "source": [
        ""
      ],
      "execution_count": null,
      "outputs": []
    },
    {
      "cell_type": "code",
      "metadata": {
        "id": "7T4D6i6tKAh4"
      },
      "source": [
        "tf.keras.backend.clear_session()\n",
        "\n",
        " # epoch config\n",
        "benchmark_epoch = 20\n",
        "vgg_epoch = 20\n",
        "resnet_epoch = 20\n",
        "inception_epoch = 20"
      ],
      "execution_count": null,
      "outputs": []
    },
    {
      "cell_type": "code",
      "metadata": {
        "id": "RIV8ZGS49Sub"
      },
      "source": [
        "img_width, img_height = 150, 150\n",
        "nb_train_samples = 6000\n",
        "nb_validation_samples = 770\n",
        "epochs = 20\n",
        "batch_size = 32\n",
        "n_classes = 4\n"
      ],
      "execution_count": null,
      "outputs": []
    },
    {
      "cell_type": "code",
      "metadata": {
        "id": "6FMMDN8P9SxH"
      },
      "source": [
        "from keras.applications import densenet\n",
        "def build_model():\n",
        "    base_model = densenet.DenseNet121(input_shape=(img_width, img_height, 3),\n",
        "                                     weights=\"imagenet\",\n",
        "                                     include_top=False,\n",
        "                                     pooling='avg')\n",
        "    for layer in base_model.layers:\n",
        "      layer.trainable = True\n",
        "\n",
        "    x = base_model.output\n",
        "    x = Dense(1000, kernel_regularizer=regularizers.l1_l2(0.01), activity_regularizer=regularizers.l2(0.01))(x)\n",
        "    x = Activation('relu')(x)\n",
        "    x = Dense(500, kernel_regularizer=regularizers.l1_l2(0.01), activity_regularizer=regularizers.l2(0.01))(x)\n",
        "    x = Activation('relu')(x)\n",
        "    predictions = Dense(n_classes, activation='softmax')(x)\n",
        "    model = Model(inputs=base_model.input, outputs=predictions)\n",
        "    \n",
        "    return model"
      ],
      "execution_count": null,
      "outputs": []
    },
    {
      "cell_type": "code",
      "metadata": {
        "id": "rcRrM-P99S0B"
      },
      "source": [
        "densenet_model = build_model()\n",
        "densenet_model.compile(loss='categorical_crossentropy', optimizer='adam', metrics=['acc'])"
      ],
      "execution_count": null,
      "outputs": []
    },
    {
      "cell_type": "code",
      "metadata": {
        "id": "U-mcgPWsBet3"
      },
      "source": [
        "# from keras.callbacks import EarlyStopping, ReduceLROnPlateau, ModelCheckpoint, Callback\n",
        "\n",
        "\n",
        "# early_stop = EarlyStopping(monitor='val_loss', patience=8, verbose=1, min_delta=1e-4)\n",
        "# reduce_lr = ReduceLROnPlateau(monitor='val_loss', factor=0.1, patience=4, verbose=1, min_delta=1e-4)\n",
        "# callbacks_list = [early_stop, reduce_lr]"
      ],
      "execution_count": null,
      "outputs": []
    },
    {
      "cell_type": "code",
      "metadata": {
        "id": "2N0LwoPwDYDE"
      },
      "source": [
        "filepath = \"densenet_-model-{epoch:02d}-{val_acc:.2f}.hdf5\"\n",
        "reduce_lr = ReduceLROnPlateau(monitor='val_loss', factor=0.05, patience=20, min_lr=0.000002)\n",
        "checkpoint = tf.keras.callbacks.ModelCheckpoint(filepath, monitor='val_acc', verbose=1, save_best_only=True, mode='max')\n",
        "early_stopping = tf.keras.callbacks.EarlyStopping(monitor='loss', patience=20)\n",
        "history = densenet_model.fit(train_generator,epochs=benchmark_epoch, verbose=1, validation_data = validation_generator,callbacks=[reduce_lr,early_stopping,checkpoint])\n",
        "\n",
        "densenet_model.save(filepath)\n",
        "do_history_stuff(history, 'densenet_model')"
      ],
      "execution_count": null,
      "outputs": []
    },
    {
      "cell_type": "code",
      "metadata": {
        "id": "FrQiUK4UTU98"
      },
      "source": [
        ""
      ],
      "execution_count": null,
      "outputs": []
    },
    {
      "cell_type": "code",
      "metadata": {
        "id": "_mTnrG4tBe2B"
      },
      "source": [
        ""
      ],
      "execution_count": null,
      "outputs": []
    },
    {
      "cell_type": "code",
      "metadata": {
        "id": "NuYHO_PuBe4q"
      },
      "source": [
        ""
      ],
      "execution_count": null,
      "outputs": []
    },
    {
      "cell_type": "code",
      "metadata": {
        "id": "KSwYN1pEBe7U"
      },
      "source": [
        ""
      ],
      "execution_count": null,
      "outputs": []
    },
    {
      "cell_type": "code",
      "metadata": {
        "id": "07mWOCXrBe91"
      },
      "source": [
        ""
      ],
      "execution_count": null,
      "outputs": []
    },
    {
      "cell_type": "code",
      "metadata": {
        "id": "sNVowK65BfBZ"
      },
      "source": [
        ""
      ],
      "execution_count": null,
      "outputs": []
    },
    {
      "cell_type": "code",
      "metadata": {
        "id": "aqOlGzzB9S3Q"
      },
      "source": [
        ""
      ],
      "execution_count": null,
      "outputs": []
    },
    {
      "cell_type": "code",
      "metadata": {
        "id": "XIg_hdOEKI_g",
        "colab": {
          "base_uri": "https://localhost:8080/"
        },
        "outputId": "d700aa02-64cf-4a51-b8f0-3ddade8c054e"
      },
      "source": [
        "#CNN architecture\n",
        "\n",
        "#random architecture\n",
        "benchmark_model = Sequential()\n",
        "# Input here is 4D array (batchsize, height, width, channels) - we have already created the train_generator with batch size 32\n",
        "# 32 Images of size each 150x150 with 3 color channels will be input into this layer\n",
        "benchmark_model.add(Conv2D(128, kernel_size=7, activation='relu', input_shape=(150,150,3)))\n",
        "benchmark_model.add(MaxPooling2D(pool_size=(4,4), strides=(2,2)))\n",
        "benchmark_model.add(Conv2D(64, kernel_size=5, activation='relu'))\n",
        "benchmark_model.add(MaxPooling2D(pool_size=(4,4), strides=(2,2)))\n",
        "benchmark_model.add(Flatten())\n",
        "benchmark_model.add(Dense(128,activation='relu'))\n",
        "benchmark_model.add(Dense(4,activation='softmax'))\n",
        "\n",
        "benchmark_model.compile(optimizer='adam', loss='categorical_crossentropy', metrics=['acc'])\n",
        "\n",
        "benchmark_model.summary()"
      ],
      "execution_count": null,
      "outputs": [
        {
          "output_type": "stream",
          "name": "stdout",
          "text": [
            "Model: \"sequential\"\n",
            "_________________________________________________________________\n",
            " Layer (type)                Output Shape              Param #   \n",
            "=================================================================\n",
            " conv2d (Conv2D)             (None, 144, 144, 128)     18944     \n",
            "                                                                 \n",
            " max_pooling2d (MaxPooling2D  (None, 71, 71, 128)      0         \n",
            " )                                                               \n",
            "                                                                 \n",
            " conv2d_1 (Conv2D)           (None, 67, 67, 64)        204864    \n",
            "                                                                 \n",
            " max_pooling2d_1 (MaxPooling  (None, 32, 32, 64)       0         \n",
            " 2D)                                                             \n",
            "                                                                 \n",
            " flatten (Flatten)           (None, 65536)             0         \n",
            "                                                                 \n",
            " dense_3 (Dense)             (None, 128)               8388736   \n",
            "                                                                 \n",
            " dense_4 (Dense)             (None, 4)                 516       \n",
            "                                                                 \n",
            "=================================================================\n",
            "Total params: 8,613,060\n",
            "Trainable params: 8,613,060\n",
            "Non-trainable params: 0\n",
            "_________________________________________________________________\n"
          ]
        }
      ]
    },
    {
      "cell_type": "code",
      "metadata": {
        "id": "zq4mp3q5KNmh",
        "colab": {
          "base_uri": "https://localhost:8080/",
          "height": 1000
        },
        "outputId": "9b4f8c22-ce30-40fc-cd64-f6d27cee36eb"
      },
      "source": [
        "filepath = \"bench_mark_-model-{epoch:02d}-{val_acc:.2f}.hdf5\"\n",
        "reduce_lr = ReduceLROnPlateau(monitor='val_loss', factor=0.05, patience=20, min_lr=0.000002)\n",
        "checkpoint = tf.keras.callbacks.ModelCheckpoint(filepath, monitor='val_acc', verbose=1, save_best_only=True, mode='max')\n",
        "early_stopping = tf.keras.callbacks.EarlyStopping(monitor='loss', patience=20)\n",
        "history = benchmark_model.fit(train_generator,epochs=benchmark_epoch, verbose=1, validation_data = validation_generator,callbacks=[reduce_lr,early_stopping,checkpoint])\n",
        "\n",
        "benchmark_model.save(filepath)\n",
        "do_history_stuff(history, 'benchmark_model')"
      ],
      "execution_count": null,
      "outputs": [
        {
          "output_type": "stream",
          "name": "stdout",
          "text": [
            "Epoch 1/20\n",
            "198/198 [==============================] - ETA: 0s - loss: 0.7324 - acc: 0.7404\n",
            "Epoch 00001: val_acc improved from -inf to 0.73022, saving model to bench_mark_-model-01-0.73.hdf5\n",
            "198/198 [==============================] - 107s 533ms/step - loss: 0.7324 - acc: 0.7404 - val_loss: 0.6000 - val_acc: 0.7302 - lr: 0.0010\n",
            "Epoch 2/20\n",
            "198/198 [==============================] - ETA: 0s - loss: 0.3942 - acc: 0.8512\n",
            "Epoch 00002: val_acc did not improve from 0.73022\n",
            "198/198 [==============================] - 106s 534ms/step - loss: 0.3942 - acc: 0.8512 - val_loss: 0.7926 - val_acc: 0.7004 - lr: 0.0010\n",
            "Epoch 3/20\n",
            "198/198 [==============================] - ETA: 0s - loss: 0.3179 - acc: 0.8814\n",
            "Epoch 00003: val_acc improved from 0.73022 to 0.80674, saving model to bench_mark_-model-03-0.81.hdf5\n",
            "198/198 [==============================] - 105s 529ms/step - loss: 0.3179 - acc: 0.8814 - val_loss: 0.5050 - val_acc: 0.8067 - lr: 0.0010\n",
            "Epoch 4/20\n",
            "198/198 [==============================] - ETA: 0s - loss: 0.2825 - acc: 0.8941\n",
            "Epoch 00004: val_acc improved from 0.80674 to 0.82620, saving model to bench_mark_-model-04-0.83.hdf5\n",
            "198/198 [==============================] - 105s 529ms/step - loss: 0.2825 - acc: 0.8941 - val_loss: 0.4599 - val_acc: 0.8262 - lr: 0.0010\n",
            "Epoch 5/20\n",
            "198/198 [==============================] - ETA: 0s - loss: 0.2478 - acc: 0.9063\n",
            "Epoch 00005: val_acc improved from 0.82620 to 0.87289, saving model to bench_mark_-model-05-0.87.hdf5\n",
            "198/198 [==============================] - 106s 537ms/step - loss: 0.2478 - acc: 0.9063 - val_loss: 0.3664 - val_acc: 0.8729 - lr: 0.0010\n",
            "Epoch 6/20\n",
            "198/198 [==============================] - ETA: 0s - loss: 0.2599 - acc: 0.9050\n",
            "Epoch 00006: val_acc did not improve from 0.87289\n",
            "198/198 [==============================] - 106s 537ms/step - loss: 0.2599 - acc: 0.9050 - val_loss: 0.3859 - val_acc: 0.8612 - lr: 0.0010\n",
            "Epoch 7/20\n",
            "198/198 [==============================] - ETA: 0s - loss: 0.2260 - acc: 0.9184\n",
            "Epoch 00007: val_acc did not improve from 0.87289\n",
            "198/198 [==============================] - 104s 528ms/step - loss: 0.2260 - acc: 0.9184 - val_loss: 0.5073 - val_acc: 0.8405 - lr: 0.0010\n",
            "Epoch 8/20\n",
            "198/198 [==============================] - ETA: 0s - loss: 0.2306 - acc: 0.9157\n",
            "Epoch 00008: val_acc did not improve from 0.87289\n",
            "198/198 [==============================] - 105s 528ms/step - loss: 0.2306 - acc: 0.9157 - val_loss: 0.4658 - val_acc: 0.8508 - lr: 0.0010\n",
            "Epoch 9/20\n",
            "198/198 [==============================] - ETA: 0s - loss: 0.1855 - acc: 0.9334\n",
            "Epoch 00009: val_acc improved from 0.87289 to 0.88327, saving model to bench_mark_-model-09-0.88.hdf5\n",
            "198/198 [==============================] - 106s 536ms/step - loss: 0.1855 - acc: 0.9334 - val_loss: 0.3630 - val_acc: 0.8833 - lr: 0.0010\n",
            "Epoch 10/20\n",
            "198/198 [==============================] - ETA: 0s - loss: 0.2006 - acc: 0.9271\n",
            "Epoch 00010: val_acc did not improve from 0.88327\n",
            "198/198 [==============================] - 106s 537ms/step - loss: 0.2006 - acc: 0.9271 - val_loss: 0.5760 - val_acc: 0.8301 - lr: 0.0010\n",
            "Epoch 11/20\n",
            "198/198 [==============================] - ETA: 0s - loss: 0.1681 - acc: 0.9420\n",
            "Epoch 00011: val_acc did not improve from 0.88327\n",
            "198/198 [==============================] - 105s 530ms/step - loss: 0.1681 - acc: 0.9420 - val_loss: 0.3143 - val_acc: 0.8781 - lr: 0.0010\n",
            "Epoch 12/20\n",
            "198/198 [==============================] - ETA: 0s - loss: 0.1620 - acc: 0.9395\n",
            "Epoch 00012: val_acc improved from 0.88327 to 0.88846, saving model to bench_mark_-model-12-0.89.hdf5\n",
            "198/198 [==============================] - 105s 529ms/step - loss: 0.1620 - acc: 0.9395 - val_loss: 0.3130 - val_acc: 0.8885 - lr: 0.0010\n",
            "Epoch 13/20\n",
            "198/198 [==============================] - ETA: 0s - loss: 0.1543 - acc: 0.9433\n",
            "Epoch 00013: val_acc improved from 0.88846 to 0.89624, saving model to bench_mark_-model-13-0.90.hdf5\n",
            "198/198 [==============================] - 106s 533ms/step - loss: 0.1543 - acc: 0.9433 - val_loss: 0.3330 - val_acc: 0.8962 - lr: 0.0010\n",
            "Epoch 14/20\n",
            "198/198 [==============================] - ETA: 0s - loss: 0.1596 - acc: 0.9414\n",
            "Epoch 00014: val_acc did not improve from 0.89624\n",
            "198/198 [==============================] - 105s 529ms/step - loss: 0.1596 - acc: 0.9414 - val_loss: 0.3167 - val_acc: 0.8923 - lr: 0.0010\n",
            "Epoch 15/20\n",
            "198/198 [==============================] - ETA: 0s - loss: 0.1390 - acc: 0.9480\n",
            "Epoch 00015: val_acc did not improve from 0.89624\n",
            "198/198 [==============================] - 105s 528ms/step - loss: 0.1390 - acc: 0.9480 - val_loss: 0.4483 - val_acc: 0.8638 - lr: 0.0010\n",
            "Epoch 16/20\n",
            "198/198 [==============================] - ETA: 0s - loss: 0.1297 - acc: 0.9531\n",
            "Epoch 00016: val_acc did not improve from 0.89624\n",
            "198/198 [==============================] - 105s 528ms/step - loss: 0.1297 - acc: 0.9531 - val_loss: 0.3804 - val_acc: 0.8846 - lr: 0.0010\n",
            "Epoch 17/20\n",
            "198/198 [==============================] - ETA: 0s - loss: 0.1476 - acc: 0.9496\n",
            "Epoch 00017: val_acc did not improve from 0.89624\n",
            "198/198 [==============================] - 105s 529ms/step - loss: 0.1476 - acc: 0.9496 - val_loss: 0.2902 - val_acc: 0.8962 - lr: 0.0010\n",
            "Epoch 18/20\n",
            "198/198 [==============================] - ETA: 0s - loss: 0.1344 - acc: 0.9502\n",
            "Epoch 00018: val_acc did not improve from 0.89624\n",
            "198/198 [==============================] - 104s 526ms/step - loss: 0.1344 - acc: 0.9502 - val_loss: 0.3343 - val_acc: 0.8872 - lr: 0.0010\n",
            "Epoch 19/20\n",
            "198/198 [==============================] - ETA: 0s - loss: 0.1356 - acc: 0.9505\n",
            "Epoch 00019: val_acc did not improve from 0.89624\n",
            "198/198 [==============================] - 105s 528ms/step - loss: 0.1356 - acc: 0.9505 - val_loss: 0.3647 - val_acc: 0.8547 - lr: 0.0010\n",
            "Epoch 20/20\n",
            "198/198 [==============================] - ETA: 0s - loss: 0.1316 - acc: 0.9500\n",
            "Epoch 00020: val_acc did not improve from 0.89624\n",
            "198/198 [==============================] - 105s 529ms/step - loss: 0.1316 - acc: 0.9500 - val_loss: 0.5914 - val_acc: 0.8431 - lr: 0.0010\n"
          ]
        },
        {
          "output_type": "stream",
          "name": "stderr",
          "text": [
            "/usr/local/lib/python3.7/dist-packages/seaborn/_decorators.py:43: FutureWarning: Pass the following variables as keyword args: x, y. From version 0.12, the only valid positional argument will be `data`, and passing other arguments without an explicit keyword will result in an error or misinterpretation.\n",
            "  FutureWarning\n",
            "/usr/local/lib/python3.7/dist-packages/seaborn/_decorators.py:43: FutureWarning: Pass the following variables as keyword args: x, y. From version 0.12, the only valid positional argument will be `data`, and passing other arguments without an explicit keyword will result in an error or misinterpretation.\n",
            "  FutureWarning\n"
          ]
        },
        {
          "output_type": "display_data",
          "data": {
            "image/png": "[encoded data removed]",
            "text/plain": [
              "<Figure size 432x288 with 1 Axes>"
            ]
          },
          "metadata": {
            "needs_background": "light"
          }
        },
        {
          "output_type": "display_data",
          "data": {
            "text/plain": [
              "<Figure size 432x288 with 0 Axes>"
            ]
          },
          "metadata": {}
        },
        {
          "output_type": "stream",
          "name": "stderr",
          "text": [
            "/usr/local/lib/python3.7/dist-packages/seaborn/_decorators.py:43: FutureWarning: Pass the following variables as keyword args: x, y. From version 0.12, the only valid positional argument will be `data`, and passing other arguments without an explicit keyword will result in an error or misinterpretation.\n",
            "  FutureWarning\n",
            "/usr/local/lib/python3.7/dist-packages/seaborn/_decorators.py:43: FutureWarning: Pass the following variables as keyword args: x, y. From version 0.12, the only valid positional argument will be `data`, and passing other arguments without an explicit keyword will result in an error or misinterpretation.\n",
            "  FutureWarning\n"
          ]
        },
        {
          "output_type": "display_data",
          "data": {
            "image/png": "[encoded data removed]",
            "text/plain": [
              "<Figure size 432x288 with 1 Axes>"
            ]
          },
          "metadata": {
            "needs_background": "light"
          }
        },
        {
          "output_type": "display_data",
          "data": {
            "text/plain": [
              "<Figure size 432x288 with 0 Axes>"
            ]
          },
          "metadata": {}
        }
      ]
    },
    {
      "cell_type": "code",
      "metadata": {
        "id": "NsfqROgSVd60"
      },
      "source": [
        ""
      ],
      "execution_count": null,
      "outputs": []
    }
  ]
}